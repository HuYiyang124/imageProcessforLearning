{
 "cells": [
  {
   "cell_type": "code",
   "execution_count": 2,
   "source": [
    "def show_files(path, all_files):\n",
    "    # 首先遍历当前目录所有文件及文件夹\n",
    "    file_list = os.listdir(path)\n",
    "    # 准备循环判断每个元素是否是文件夹还是文件，是文件的话，把名称传入list，是文件夹的话，递归\n",
    "    for file in file_list:\n",
    "        # 利用os.path.join()方法取得路径全名，并存入cur_path变量，否则每次只能遍历一层目录\n",
    "        cur_path = os.path.join(path, file)\n",
    "        # 判断是否是文件夹\n",
    "        if os.path.isdir(cur_path):\n",
    "            show_files(cur_path, all_files)\n",
    "        else:\n",
    "            # 拼接文件路径\n",
    "            all_files.append(path+\"/\"+file)\n",
    "    return all_files\n"
   ],
   "outputs": [],
   "metadata": {}
  },
  {
   "cell_type": "code",
   "execution_count": 3,
   "source": [
    "def resize_img(img_path,save_path):\n",
    "    # 读取原图片\n",
    "    img = cv2.imread(img_path)\n",
    "    h, w = img.shape[0], img.shape[1]\n",
    "    print(\"Original h : \" + str(h) + \"px Original w : \" + str(w) + \"px\")\n",
    "    rate=img_width_height/h\n",
    "    img_processing = cv2.resize(img, (0, 0), fx=rate, fy=rate, interpolation=cv2.INTER_NEAREST)\n",
    "    # 这里改一下名称，最后三位强制改为jpg\n",
    "    if save_path[-3:] == \"png\":\n",
    "        save_path=save_path.replace(\"png\", \"jpg\")\n",
    "    cv2.imwrite(save_path, img_processing)\n",
    "    print(\"Save as : \" + save_path)"
   ],
   "outputs": [],
   "metadata": {}
  },
  {
   "cell_type": "code",
   "execution_count": 4,
   "source": [
    "import os\n",
    "import cv2\n",
    "\n",
    "# 所有需要处理的图片的路径 自动遍历文件夹内所有文件（包括子文件） 填写路径全称\n",
    "traversal_file=\"./\"\n",
    "# 修改完成后输出的文件夹\n",
    "output_file=\"./\"\n",
    "# 变成多少分辨率的方形图\n",
    "img_width_height=64\n"
   ],
   "outputs": [],
   "metadata": {}
  },
  {
   "cell_type": "code",
   "execution_count": 5,
   "source": [
    "if os.path.isdir(traversal_file):\n",
    "    print(\"Check traversal file ok\")\n",
    "else:\n",
    "    print(\"Traversal file error\")\n",
    "\n",
    "if os.path.isdir(output_file):\n",
    "    print(\"Check water mask file ok\")\n",
    "else:\n",
    "    print(\"Water mask file warning,auto create it\")\n",
    "    os.mkdir(output_file)\n",
    "\n",
    "#首先遍历文件夹，然后对每个文件进行处理\n",
    "# 传入空的list接收文件名\n",
    "contents = show_files(traversal_file, [])\n",
    "# 循环打印show_files函数返回的文件名列表\n",
    "\n",
    "for content in contents:\n",
    "    # print(content)\n",
    "    # 判断是否为图片\n",
    "    if content.endswith('jpg') or content.endswith('png'):\n",
    "        print(\"processing : \"+content)\n",
    "        resize_img(content, os.path.dirname(content) + \"/\" +os.path.basename(content))\n",
    "\n"
   ],
   "outputs": [
    {
     "output_type": "stream",
     "name": "stdout",
     "text": [
      "Check traversal file ok\n",
      "Check water mask file ok\n"
     ]
    },
    {
     "output_type": "execute_result",
     "data": {
      "text/plain": [
       "'\\nfor content in contents:\\n    # print(content)\\n    # 判断是否为图片\\n    if content.endswith(\\'jpg\\') or content.endswith(\\'png\\'):\\n        print(\"processing : \"+content)\\n        resize_img(content,output_file + \"/\" +os.path.basename(content))\\n'"
      ]
     },
     "metadata": {},
     "execution_count": 5
    }
   ],
   "metadata": {}
  },
  {
   "cell_type": "code",
   "execution_count": 15,
   "source": [
    "contents[0]"
   ],
   "outputs": [
    {
     "output_type": "execute_result",
     "data": {
      "text/plain": [
       "'./train/a/A19B4A13576BC6B173F407C2EE5F5A6E.jpg'"
      ]
     },
     "metadata": {},
     "execution_count": 15
    }
   ],
   "metadata": {}
  },
  {
   "cell_type": "code",
   "execution_count": null,
   "source": [],
   "outputs": [],
   "metadata": {}
  }
 ],
 "metadata": {
  "orig_nbformat": 4,
  "language_info": {
   "name": "python",
   "version": "3.6.9",
   "mimetype": "text/x-python",
   "codemirror_mode": {
    "name": "ipython",
    "version": 3
   },
   "pygments_lexer": "ipython3",
   "nbconvert_exporter": "python",
   "file_extension": ".py"
  },
  "kernelspec": {
   "name": "python3",
   "display_name": "Python 3.6.9 64-bit"
  },
  "interpreter": {
   "hash": "31f2aee4e71d21fbe5cf8b01ff0e069b9275f58929596ceb00d14d90e3e16cd6"
  }
 },
 "nbformat": 4,
 "nbformat_minor": 2
}